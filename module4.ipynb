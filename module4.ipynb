{
 "cells": [
  {
   "cell_type": "markdown",
   "metadata": {
    "deletable": false,
    "editable": false,
    "nbgrader": {
     "cell_type": "markdown",
     "checksum": "20f7736eaec45ab8e9353c4ce6f1019d",
     "grade": false,
     "grade_id": "cell-37b1bbf6f43609e8",
     "locked": true,
     "schema_version": 3,
     "solution": false,
     "task": false
    }
   },
   "source": [
    "## Module 4\n",
    "\n",
    "In this assignment, you will implement an online banking system.  Users can sign-up with the system, log in to the\n",
    "system, change their password, and delete their account.  They can also update their bank account balance and transfer\n",
    "money to another user’s bank account.\n",
    "\n",
    "You’ll implement functions related to File I/O and dictionaries.  Two of the functions require you to import files\n",
    "and create dictionaries.  User information will be imported from the “users.txt” file and account information will be\n",
    "imported from the “bank.txt” file.  Take a look at the content in the different files.  The remaining functions require\n",
    "you to use or modify the two dictionaries created from the files.\n",
    "\n",
    "Each function has been defined for you, but without the code. See the docstring in each function for instructions on\n",
    "what the function is supposed to do and how to write the code. It should be clear enough.  In some cases, we have\n",
    "provided hints to help you get started.\n"
   ]
  },
  {
   "cell_type": "code",
   "execution_count": 6,
   "metadata": {
    "deletable": false,
    "editable": false,
    "nbgrader": {
     "cell_type": "code",
     "checksum": "186aa7074d8e654342e952471a9709f0",
     "grade": true,
     "grade_id": "init_test",
     "locked": true,
     "points": 0,
     "schema_version": 3,
     "solution": false,
     "task": false
    }
   },
   "outputs": [],
   "source": [
    "###########################################################\n",
    "### EXECUTE THIS CELL BEFORE YOU TO TEST YOUR SOLUTIONS ###\n",
    "###########################################################\n",
    "\n",
    "import nose.tools as tools"
   ]
  },
  {
   "cell_type": "code",
   "execution_count": 159,
   "metadata": {
    "deletable": false,
    "name": "multiply",
    "nbgrader": {
     "cell_type": "code",
     "checksum": "f029ed9c0fbc3ea36845d51e26fd8e88",
     "grade": false,
     "grade_id": "import_and_create_bank",
     "locked": false,
     "schema_version": 3,
     "solution": true,
     "task": false
    }
   },
   "outputs": [],
   "source": [
    "def import_and_create_bank(filename):\n",
    "    '''\n",
    "    This function is used to create a bank dictionary.  The given argument is the filename to load.\n",
    "    Every line in the file should be in the following format:\n",
    "        key: value\n",
    "    The key is a user's name and the value is an amount to update the user's bank account with.  The value should be a\n",
    "    number, however, it is possible that there is no value or that the value is an invalid number.\n",
    "\n",
    "    What you will do:\n",
    "    - Create an empty bank dictionary.\n",
    "    - Read in the file.\n",
    "    - Add keys and values to the dictionary from the contents of the file.\n",
    "    - If the key doesn't exist in the dictionary, create a new key:value pair.\n",
    "    - If the key does exist in the dictionary, increment its value with the amount.\n",
    "    - You should also handle the following cases:\n",
    "    -- When the value is missing or invalid.  If so, ignore that line and don't update the dictionary.\n",
    "    -- When the line is completely blank.  Again, ignore that line and don't update the dictionary.\n",
    "    -- When there is whitespace at the beginning or end of a line and/or between the name and value on a line.  You\n",
    "    should trim any and all whitespace.\n",
    "    - Return the bank dictionary from this function.\n",
    "\n",
    "    For example, here's how your code should handle some specific lines in the file:\n",
    "    The 1st line in the file has a name and valid number:\n",
    "        Brandon: 5\n",
    "    Your code will process this line and add the extracted information to the dictionary.  After it does,\n",
    "    the dictionary will look like this:\n",
    "        bank = {\"Brandon\": 5}\n",
    "\n",
    "    The 2nd line in the file also has a name and valid number:\n",
    "        Patrick: 18.9\n",
    "    Your code will also process this line and add the extracted information to the dictionary.  After it does,\n",
    "    the dictionary will look like this:\n",
    "        bank = {\"Brandon\": 5, \"Patrick\": 18.9}\n",
    "\n",
    "    The 3rd line in the file has a name but invalid number:\n",
    "        Brandon: xyz\n",
    "    Your code will ignore this line and add nothing to the dictionary.  It will still look like this:\n",
    "        bank = {\"Brandon\": 5, \"Patrick\": 18.9}\n",
    "\n",
    "    The 4th line in the file has a name but missing number:\n",
    "        Jack:\n",
    "    Your code will ignore this line and add nothing to the dictionary.  It will still look like this:\n",
    "        bank = {\"Brandon\": 5, \"Patrick\": 18.9}\n",
    "\n",
    "    The 5th line in the file is completely blank.\n",
    "    Your code will ignore this line and add nothing to the dictionary.  It will still look like this:\n",
    "        bank = {\"Brandon\": 5, \"Patrick\": 18.9}\n",
    "\n",
    "    The 8th line in the file has a name and valid number, but with extra whitespace:\n",
    "        Brandon:       10\n",
    "    Your code will process this line and update the value associated with the existing key ('Brandon') in the dictionary.\n",
    "    After it does, the value associated with the key 'Brandon' will be 10:\n",
    "        bank = {\"Brandon\": 15, ...}\n",
    "\n",
    "    After processing every line in the file, the dictionary will look like this:\n",
    "        bank = {\"Brandon\": 115.5, \"Patrick\": 18.9, \"Sarah\": 827.43, \"Jack\": 45.0, \"James\": 128.87}\n",
    "    Return the dictionary from this function.\n",
    "    '''\n",
    "\n",
    "    bank = {}\n",
    "\n",
    "    # your code here\n",
    "    f = open (filename ,'r' )\n",
    "    lines = f.readlines()\n",
    "    \n",
    "    for line in lines :\n",
    "        lst = line.strip().split(':')\n",
    "        \n",
    "        if len(lst)<= 1:\n",
    "            continue\n",
    "            \n",
    "        key = lst[0].strip()\n",
    "        value = lst[1].strip()\n",
    "        try:\n",
    "            value = float(value)\n",
    "            bank[key] = bank.get(key, 0) + value\n",
    "        except:\n",
    "            continue\n",
    "            \n",
    "        \n",
    "    \n",
    "    f.close()\n",
    "    return bank\n",
    "\n"
   ]
  },
  {
   "cell_type": "code",
   "execution_count": 13,
   "metadata": {
    "deletable": false,
    "editable": false,
    "nbgrader": {
     "cell_type": "code",
     "checksum": "4da7d5483eaa2041e0558f1f2e5cf470",
     "grade": true,
     "grade_id": "test_import_and_create_bank",
     "locked": true,
     "points": 1,
     "schema_version": 3,
     "solution": false,
     "task": false
    }
   },
   "outputs": [
    {
     "name": "stdout",
     "output_type": "stream",
     "text": [
      "Success!\n"
     ]
    }
   ],
   "source": [
    "##########################\n",
    "### TEST YOUR SOLUTION ###\n",
    "##########################\n",
    "bank = import_and_create_bank(\"bank.txt\")\n",
    "\n",
    "tools.assert_false(len(bank) == 0)\n",
    "tools.assert_almost_equal(115.5, bank.get(\"Brandon\"))\n",
    "tools.assert_almost_equal(128.87, bank.get(\"James\"))\n",
    "tools.assert_is_none(bank.get(\"Joel\"))\n",
    "tools.assert_is_none(bank.get(\"Luke\"))\n",
    "tools.assert_almost_equal(bank.get(\"Sarah\"), 827.43)\n",
    "print(\"Success!\")"
   ]
  },
  {
   "cell_type": "code",
   "execution_count": 95,
   "metadata": {
    "deletable": false,
    "nbgrader": {
     "cell_type": "code",
     "checksum": "ce5052b10d6bdf521abc334e1cf569e5",
     "grade": false,
     "grade_id": "signup",
     "locked": false,
     "schema_version": 3,
     "solution": true,
     "task": false
    }
   },
   "outputs": [],
   "source": [
    "import re\n",
    "\n",
    "\n",
    "def signup(user_accounts, log_in, username, password):\n",
    "    def valid(password):\n",
    "        regex = \"^(?=.*[a-z])(?=.*[A-Z])(?=.*\\d)[a-zA-Z\\d]{8,}$\"\n",
    "        p = re.compile(regex)\n",
    "        if re.search(p, password):\n",
    "            return True\n",
    "        else:\n",
    "            return False\n",
    "\n",
    "    if username == password:\n",
    "        return False\n",
    "    else:\n",
    "        if username in user_accounts.keys():\n",
    "            return True\n",
    "        else:\n",
    "            if valid(password) == True:\n",
    "                user_accounts[username] = password\n",
    "                log_in[username] = False\n",
    "                return user_accounts, log_in\n",
    "            else:\n",
    "                return False\n"
   ]
  },
  {
   "cell_type": "code",
   "execution_count": 146,
   "metadata": {
    "deletable": false,
    "nbgrader": {
     "cell_type": "code",
     "checksum": "0aa55493d004c92765e94ac195617d97",
     "grade": false,
     "grade_id": "import_and_create_accounts",
     "locked": false,
     "schema_version": 3,
     "solution": true,
     "task": false
    }
   },
   "outputs": [],
   "source": [
    "def import_and_create_accounts(filename):\n",
    "    user_accounts = {}\n",
    "    log_in = {}\n",
    "    with open(filename, \"r\") as data :\n",
    "        lines = data.readlines()\n",
    "        for  i  in lines:\n",
    "            new = i.strip().split(\"-\")\n",
    "            if len(new) <=1:\n",
    "                continue\n",
    "            key = new[0].strip()\n",
    "            value = new[1].strip()\n",
    "            try:\n",
    "                user_accounts, log_in = signup(user_accounts,log_in,key,value)\n",
    "            except:\n",
    "                pass\n",
    "    return user_accounts,log_in\n",
    "\n"
   ]
  },
  {
   "cell_type": "code",
   "execution_count": null,
   "metadata": {},
   "outputs": [],
   "source": []
  },
  {
   "cell_type": "code",
   "execution_count": 168,
   "metadata": {
    "deletable": false,
    "editable": false,
    "nbgrader": {
     "cell_type": "code",
     "checksum": "a6fdf4943ba648c896862c0fb3921300",
     "grade": true,
     "grade_id": "test_import_and_create_accounts",
     "locked": true,
     "points": 1,
     "schema_version": 3,
     "solution": false,
     "task": false
    },
    "scrolled": true
   },
   "outputs": [
    {
     "name": "stdout",
     "output_type": "stream",
     "text": [
      "Success!\n"
     ]
    }
   ],
   "source": [
    "##########################\n",
    "### TEST YOUR SOLUTION ###\n",
    "##########################\n",
    "user_accounts, log_in = import_and_create_accounts(\"user.txt\")\n",
    "\n",
    "tools.assert_false(len(user_accounts) == 0)\n",
    "tools.assert_false(len(log_in) == 0)\n",
    "tools.assert_equal(user_accounts.get(\"Brandon\"),\"brandon123ABC\")\n",
    "tools.assert_equal(user_accounts.get(\"Jack\"),\"jack123POU\")\n",
    "tools.assert_is_none(user_accounts.get(\"Jennie\"))\n",
    "tools.assert_false(log_in[\"Sarah\"])\n",
    "print(\"Success!\")"
   ]
  },
  {
   "cell_type": "code",
   "execution_count": 169,
   "metadata": {
    "deletable": false,
    "editable": false,
    "nbgrader": {
     "cell_type": "code",
     "checksum": "88a49592b1740b1738da5ed2d4b246c0",
     "grade": true,
     "grade_id": "test_signup",
     "locked": true,
     "points": 1,
     "schema_version": 3,
     "solution": false,
     "task": false
    }
   },
   "outputs": [
    {
     "ename": "AssertionError",
     "evalue": "True is not false",
     "output_type": "error",
     "traceback": [
      "\u001b[0;31m---------------------------------------------------------------------------\u001b[0m",
      "\u001b[0;31mAssertionError\u001b[0m                            Traceback (most recent call last)",
      "\u001b[0;32m<ipython-input-169-8a175db9502f>\u001b[0m in \u001b[0;36m<module>\u001b[0;34m\u001b[0m\n\u001b[1;32m      5\u001b[0m \u001b[0muser_accounts\u001b[0m\u001b[0;34m,\u001b[0m \u001b[0mlog_in\u001b[0m \u001b[0;34m=\u001b[0m \u001b[0mimport_and_create_accounts\u001b[0m\u001b[0;34m(\u001b[0m\u001b[0;34m\"user.txt\"\u001b[0m\u001b[0;34m)\u001b[0m\u001b[0;34m\u001b[0m\u001b[0;34m\u001b[0m\u001b[0m\n\u001b[1;32m      6\u001b[0m \u001b[0;34m\u001b[0m\u001b[0m\n\u001b[0;32m----> 7\u001b[0;31m \u001b[0mtools\u001b[0m\u001b[0;34m.\u001b[0m\u001b[0massert_false\u001b[0m\u001b[0;34m(\u001b[0m\u001b[0msignup\u001b[0m\u001b[0;34m(\u001b[0m\u001b[0muser_accounts\u001b[0m\u001b[0;34m,\u001b[0m\u001b[0mlog_in\u001b[0m\u001b[0;34m,\u001b[0m\u001b[0;34m\"Brandon\"\u001b[0m\u001b[0;34m,\u001b[0m\u001b[0;34m\"123abcABCD\"\u001b[0m\u001b[0;34m)\u001b[0m\u001b[0;34m)\u001b[0m\u001b[0;34m\u001b[0m\u001b[0;34m\u001b[0m\u001b[0m\n\u001b[0m\u001b[1;32m      8\u001b[0m \u001b[0;34m\u001b[0m\u001b[0m\n\u001b[1;32m      9\u001b[0m \u001b[0mtools\u001b[0m\u001b[0;34m.\u001b[0m\u001b[0massert_false\u001b[0m\u001b[0;34m(\u001b[0m\u001b[0msignup\u001b[0m\u001b[0;34m(\u001b[0m\u001b[0muser_accounts\u001b[0m\u001b[0;34m,\u001b[0m\u001b[0mlog_in\u001b[0m\u001b[0;34m,\u001b[0m\u001b[0;34m\"BrandonK\"\u001b[0m\u001b[0;34m,\u001b[0m\u001b[0;34m\"123ABCD\"\u001b[0m\u001b[0;34m)\u001b[0m\u001b[0;34m)\u001b[0m\u001b[0;34m\u001b[0m\u001b[0;34m\u001b[0m\u001b[0m\n",
      "\u001b[0;32m/opt/conda/lib/python3.7/unittest/case.py\u001b[0m in \u001b[0;36massertFalse\u001b[0;34m(self, expr, msg)\u001b[0m\n\u001b[1;32m    697\u001b[0m         \u001b[0;32mif\u001b[0m \u001b[0mexpr\u001b[0m\u001b[0;34m:\u001b[0m\u001b[0;34m\u001b[0m\u001b[0;34m\u001b[0m\u001b[0m\n\u001b[1;32m    698\u001b[0m             \u001b[0mmsg\u001b[0m \u001b[0;34m=\u001b[0m \u001b[0mself\u001b[0m\u001b[0;34m.\u001b[0m\u001b[0m_formatMessage\u001b[0m\u001b[0;34m(\u001b[0m\u001b[0mmsg\u001b[0m\u001b[0;34m,\u001b[0m \u001b[0;34m\"%s is not false\"\u001b[0m \u001b[0;34m%\u001b[0m \u001b[0msafe_repr\u001b[0m\u001b[0;34m(\u001b[0m\u001b[0mexpr\u001b[0m\u001b[0;34m)\u001b[0m\u001b[0;34m)\u001b[0m\u001b[0;34m\u001b[0m\u001b[0;34m\u001b[0m\u001b[0m\n\u001b[0;32m--> 699\u001b[0;31m             \u001b[0;32mraise\u001b[0m \u001b[0mself\u001b[0m\u001b[0;34m.\u001b[0m\u001b[0mfailureException\u001b[0m\u001b[0;34m(\u001b[0m\u001b[0mmsg\u001b[0m\u001b[0;34m)\u001b[0m\u001b[0;34m\u001b[0m\u001b[0;34m\u001b[0m\u001b[0m\n\u001b[0m\u001b[1;32m    700\u001b[0m \u001b[0;34m\u001b[0m\u001b[0m\n\u001b[1;32m    701\u001b[0m     \u001b[0;32mdef\u001b[0m \u001b[0massertTrue\u001b[0m\u001b[0;34m(\u001b[0m\u001b[0mself\u001b[0m\u001b[0;34m,\u001b[0m \u001b[0mexpr\u001b[0m\u001b[0;34m,\u001b[0m \u001b[0mmsg\u001b[0m\u001b[0;34m=\u001b[0m\u001b[0;32mNone\u001b[0m\u001b[0;34m)\u001b[0m\u001b[0;34m:\u001b[0m\u001b[0;34m\u001b[0m\u001b[0;34m\u001b[0m\u001b[0m\n",
      "\u001b[0;31mAssertionError\u001b[0m: True is not false"
     ]
    }
   ],
   "source": [
    "##########################\n",
    "### TEST YOUR SOLUTION ###\n",
    "##########################\n",
    "bank = import_and_create_bank(\"bank.txt\")\n",
    "user_accounts, log_in = import_and_create_accounts(\"user.txt\")\n",
    "\n",
    "tools.assert_false(signup(user_accounts,log_in,\"Brandon\",\"123abcABCD\"))\n",
    "\n",
    "tools.assert_false(signup(user_accounts,log_in,\"BrandonK\",\"123ABCD\"))\n",
    "tools.assert_false(signup(user_accounts,log_in,\"BrandonK\",\"1234ABCD\"))\n",
    "tools.assert_false(signup(user_accounts,log_in,\"BrandonK\",\"abcdABCD\"))\n",
    "tools.assert_false(signup(user_accounts,log_in,\"BrandonK\",\"1234abcd\"))\n",
    "\n",
    "tools.assert_false(signup(user_accounts,log_in,\"123abcABCD\",\"123abcABCD\"))\n",
    "\n",
    "tools.assert_true(signup(user_accounts,log_in,\"BrandonK\",\"123aABCD\"))\n",
    "tools.assert_false(signup(user_accounts,log_in,\"BrandonK\",\"123aABCD\"))\n",
    "tools.assert_true(\"BrandonK\" in user_accounts)\n",
    "tools.assert_equal(\"123aABCD\",user_accounts[\"BrandonK\"])\n",
    "tools.assert_false(log_in[\"BrandonK\"])\n",
    "print(\"Success!\")"
   ]
  },
  {
   "cell_type": "code",
   "execution_count": 71,
   "metadata": {
    "deletable": false,
    "nbgrader": {
     "cell_type": "code",
     "checksum": "a9ff3f6131bb333df74cff7be0b1a231",
     "grade": false,
     "grade_id": "login",
     "locked": false,
     "schema_version": 3,
     "solution": true,
     "task": false
    }
   },
   "outputs": [],
   "source": [
    "def login(user_accounts, log_in, username, password):\n",
    "    '''This function allows users to log in with their username and password.\n",
    "    The users_accounts stores the usernames and passwords.\n",
    "    If the username does not exist or the password is incorrect,\n",
    "    return error message.Otherwise, return success message.'''\n",
    "    if username not in user_accounts.keys():\n",
    "        return False \n",
    "    elif user_accounts[username] != password:\n",
    "        return False\n",
    "    \n",
    "    log_in[username] = True\n",
    "    return True"
   ]
  },
  {
   "cell_type": "code",
   "execution_count": 72,
   "metadata": {
    "deletable": false,
    "editable": false,
    "nbgrader": {
     "cell_type": "code",
     "checksum": "08ad030b14a87955cb7ef4464d5378b8",
     "grade": true,
     "grade_id": "test_login",
     "locked": true,
     "points": 1,
     "schema_version": 3,
     "solution": false,
     "task": false
    }
   },
   "outputs": [
    {
     "name": "stdout",
     "output_type": "stream",
     "text": [
      "Success!\n"
     ]
    }
   ],
   "source": [
    "##########################\n",
    "### TEST YOUR SOLUTION ###\n",
    "##########################\n",
    "bank = import_and_create_bank(\"bank.txt\")\n",
    "user_accounts, log_in = import_and_create_accounts(\"user.txt\")\n",
    "\n",
    "tools.assert_false(login(user_accounts, log_in,\"Brandon\",\"123abcAB\"))\n",
    "tools.assert_true(login(user_accounts, log_in,\"Brandon\",\"brandon123ABC\"))\n",
    "tools.assert_false(login(user_accounts, log_in,\"BrandonK\",\"123abcABC\"))\n",
    "print(\"Success!\")"
   ]
  },
  {
   "cell_type": "code",
   "execution_count": 100,
   "metadata": {
    "deletable": false,
    "nbgrader": {
     "cell_type": "code",
     "checksum": "2b23ab31850b9c56ee57ff400671349e",
     "grade": false,
     "grade_id": "update",
     "locked": false,
     "schema_version": 3,
     "solution": true,
     "task": false
    }
   },
   "outputs": [],
   "source": [
    "def update(bank, log_in, username, amount):\n",
    "    '''\n",
    "    In this function, you will try to update the given user's bank account with the given amount.\n",
    "    bank is a dictionary where the key is the username and the value is the user's account balance.\n",
    "    log_in is a dictionary where the key is the username and the value is the user's log-in status.\n",
    "    amount is the amount to update with, and can either be positive or negative.\n",
    "\n",
    "    To update the user's account with the amount, the following requirements must be met:\n",
    "    - The user exists in log_in and his/her status is True, meaning, the user is logged in.\n",
    "\n",
    "    If the user doesn't exist in the bank, create the user.\n",
    "    - The given amount can not result in a negative balance in the bank account.\n",
    "\n",
    "    Return True if the user's account was updated.\n",
    "\n",
    "    For example, if Brandon has 115.50 in his account:\n",
    "    - Calling update(bank, log_in, \"Brandon\", 50) will return False, unless \"Brandon\" is first logged in.  Then it\n",
    "    will return True.  Brandon will then have 165.50 in his account.\n",
    "    - Calling update(bank, log_in, \"Brandon\", -200) will return False because Brandon does not have enough in his\n",
    "    account.\n",
    "    '''\n",
    "    if username in bank:\n",
    "        if log_in[username] == True:\n",
    "            if amount + bank[username] >= 0:\n",
    "                bank[username] = bank[username] + amount\n",
    "                return True\n",
    "            else:\n",
    "                return False\n",
    "        else:\n",
    "            return False\n",
    "    else:\n",
    "        bank[username] = amount \n",
    "        return True\n"
   ]
  },
  {
   "cell_type": "code",
   "execution_count": 101,
   "metadata": {
    "deletable": false,
    "editable": false,
    "nbgrader": {
     "cell_type": "code",
     "checksum": "558b3412753ee81821b40d41fadaba77",
     "grade": true,
     "grade_id": "test_update",
     "locked": true,
     "points": 1,
     "schema_version": 3,
     "solution": false,
     "task": false
    }
   },
   "outputs": [
    {
     "name": "stdout",
     "output_type": "stream",
     "text": [
      "Success!\n"
     ]
    }
   ],
   "source": [
    "##########################\n",
    "### TEST YOUR SOLUTION ###\n",
    "##########################\n",
    "bank = import_and_create_bank(\"bank.txt\")\n",
    "user_accounts, log_in = import_and_create_accounts(\"user.txt\")\n",
    "\n",
    "tools.assert_false(update(bank,log_in,\"Jack\",100))\n",
    "login(user_accounts, log_in, \"Brandon\", \"brandon123ABC\")\n",
    "tools.assert_false(update(bank,log_in,\"Brandon\",-400))\n",
    "tools.assert_true(update(bank,log_in,\"Brandon\",100))\n",
    "tools.assert_almost_equal(bank.get(\"Brandon\"),215.5)\n",
    "\n",
    "signup(user_accounts, log_in, \"BrandonK\", \"123aABCD\")\n",
    "tools.assert_is_none(bank.get(\"BrandonK\"))\n",
    "login(user_accounts,log_in,\"BrandonK\",\"123aABCD\")\n",
    "tools.assert_true(update(bank,log_in,\"BrandonK\",100))\n",
    "tools.assert_almost_equal(bank.get(\"BrandonK\"),100)\n",
    "print(\"Success!\")"
   ]
  },
  {
   "cell_type": "code",
   "execution_count": 133,
   "metadata": {
    "deletable": false,
    "nbgrader": {
     "cell_type": "code",
     "checksum": "57726d76a5c013fb27acbec570e8ee96",
     "grade": false,
     "grade_id": "transfer",
     "locked": false,
     "schema_version": 3,
     "solution": true,
     "task": false
    }
   },
   "outputs": [],
   "source": [
    "def transfer(bank, log_in, userA, userB, amount):\n",
    "    '''\n",
    "    In this function, you will try to make a transfer between two user accounts.\n",
    "    bank is a dictionary where the key is the username and the value is the user's account balance.\n",
    "    log_in is a dictionary where the key is the username and the value is the user's log-in status.\n",
    "    amount is the amount to be transferred between user accounts (userA and userB).  amount is always positive.\n",
    "\n",
    "    What you will do:\n",
    "    - Deduct the given amount from userA and add it to userB, which makes a transfer.\n",
    "    - You should consider some following cases:\n",
    "      - userA must be in the bank and his/her log-in status in log_in must be True.\n",
    "      - userB must be in log_in, regardless of log-in status.  userB can be absent in the bank.\n",
    "      - No user can have a negative amount in their account. He/she must have a positive or zero balance.\n",
    "\n",
    "    Return True if a transfer is made.\n",
    "\n",
    "    For example:\n",
    "    - Calling transfer(bank, log_in, \"BrandonK\", \"Jack\", 100) will return False\n",
    "    - Calling transfer(bank, log_in, \"Brandon\", \"JackC\", 100) will return False\n",
    "    - After logging \"Brandon\" in, calling transfer(bank, log_in, \"Brandon\", \"Jack\", 10) will return True\n",
    "    - Calling transfer(bank, log_in, \"Brandon\", \"Jack\", 200) will return False  \n",
    "    '''\n",
    "    if (userA in bank.keys()):\n",
    "        if (userB in log_in.keys()):\n",
    "            if log_in[userA] == True:\n",
    "                if bank[userA] - amount >= 0:\n",
    "                    bank[userA] = bank[userA]- amount\n",
    "                    try:\n",
    "                        bank[userB] = bank[userB] + amount\n",
    "                    except:\n",
    "                        bank[userB] = amount\n",
    "                    return True\n",
    "                else:\n",
    "                    return False\n",
    "            else:\n",
    "                return False\n",
    "        else:\n",
    "            return False\n",
    "    return False\n",
    "                            \n",
    "                    \n",
    "    "
   ]
  },
  {
   "cell_type": "code",
   "execution_count": 134,
   "metadata": {
    "deletable": false,
    "editable": false,
    "nbgrader": {
     "cell_type": "code",
     "checksum": "674f7b16f5b5f798174efb621a4c2f5e",
     "grade": true,
     "grade_id": "test_transfer",
     "locked": true,
     "points": 1,
     "schema_version": 3,
     "solution": false,
     "task": false
    }
   },
   "outputs": [
    {
     "name": "stdout",
     "output_type": "stream",
     "text": [
      "Success!\n"
     ]
    }
   ],
   "source": [
    "##########################\n",
    "### TEST YOUR SOLUTION ###\n",
    "##########################\n",
    "bank = import_and_create_bank(\"bank.txt\")\n",
    "user_accounts, log_in = import_and_create_accounts(\"user.txt\")\n",
    "\n",
    "tools.assert_false(transfer(bank,log_in,\"BrandonK\",\"Jack\",100))\n",
    "tools.assert_false(transfer(bank,log_in,\"Brandon\",\"JackC\",100))\n",
    "tools.assert_false(transfer(bank,log_in,\"Brandon\",\"Jack\",100))\n",
    "\n",
    "login(user_accounts,log_in,\"Brandon\",\"brandon123ABC\")\n",
    "tools.assert_false(transfer(bank,log_in,\"Brandon\",\"Jack\",200))\n",
    "tools.assert_true(transfer(bank,log_in,\"Brandon\",\"Jack\",10))\n",
    "tools.assert_almost_equal(bank.get(\"Brandon\"),105.5)\n",
    "tools.assert_almost_equal(bank.get(\"Jack\"),55)\n",
    "\n",
    "signup(user_accounts,log_in,\"BrandonK\",\"123aABCD\")\n",
    "tools.assert_is_none(bank.get(\"BrandonK\"))\n",
    "login(user_accounts,log_in,\"BrandonK\",\"123aABCD\")\n",
    "tools.assert_true(transfer(bank,log_in,\"Brandon\",\"BrandonK\",10))\n",
    "tools.assert_almost_equal(bank.get(\"Brandon\"),95.5)\n",
    "tools.assert_almost_equal(bank.get(\"BrandonK\"),10)\n",
    "print(\"Success!\")"
   ]
  },
  {
   "cell_type": "code",
   "execution_count": 140,
   "metadata": {
    "deletable": false,
    "nbgrader": {
     "cell_type": "code",
     "checksum": "2d326b6fa7f1e76607e6178171312ee8",
     "grade": false,
     "grade_id": "change_password",
     "locked": false,
     "schema_version": 3,
     "solution": true,
     "task": false
    }
   },
   "outputs": [],
   "source": [
    "def change_password(user_accounts, log_in, username, old_password, new_password):\n",
    "    '''\n",
    "    This function allows users to change their password.\n",
    "\n",
    "    If all of the following requirements are met, changes the password and returns True. Otherwise, returns False.\n",
    "    - The username exists in the user_accounts.\n",
    "    - The user is logged in (the username is associated with the value True in the log_in dictionary)\n",
    "    - The old_password is the user's current password.\n",
    "    - The new_password should be different from the old one.\n",
    "    - The new_password fulfills the requirement in signup.\n",
    "\n",
    "    For example:\n",
    "    - Calling\n",
    "    change_password(user_accounts, log_in, \"BrandonK\", \"123abcABC\" ,\"123abcABCD\") will return False\n",
    "    - Calling change_password(user_accounts, log_in, \"Brandon\", \"123abcABCD\", \"123abcABCDE\") will return False\n",
    "    - Calling change_password(user_accounts, log_in, \"Brandon\", \"brandon123ABC\", \"brandon123ABC\") will return False\n",
    "    - Calling change_password(user_accounts, log_in, \"Brandon\", \"brandon123ABC\", c\"123abcABCD\") will return True\n",
    "\n",
    "    Hint: Think about defining and using a separate valid(password) function that checks the validity of a given password.\n",
    "    This will also come in handy when writing the signup() function.\n",
    "    '''\n",
    "    def valid(password):\n",
    "        regex = \"^(?=.*[a-z])(?=.*[A-Z])(?=.*\\d)[a-zA-Z\\d]{8,}$\"\n",
    "        p = re.compile(regex)\n",
    "        if re.search(p, password):\n",
    "            return True\n",
    "        else:\n",
    "            return False\n",
    "    \n",
    "    \n",
    "    if username in user_accounts.keys():\n",
    "        if log_in[username] == True:\n",
    "            if old_password == user_accounts[username]:\n",
    "                if new_password != old_password:\n",
    "                    if valid(new_password):\n",
    "                        user_accounts[username] = new_password\n",
    "                        return True\n",
    "        else:\n",
    "            return False"
   ]
  },
  {
   "cell_type": "code",
   "execution_count": 155,
   "metadata": {
    "deletable": false,
    "editable": false,
    "nbgrader": {
     "cell_type": "code",
     "checksum": "5e021f7f1cdda99522feaabcb6460bc0",
     "grade": true,
     "grade_id": "test_change_password",
     "locked": true,
     "points": 1,
     "schema_version": 3,
     "solution": false,
     "task": false
    }
   },
   "outputs": [
    {
     "name": "stdout",
     "output_type": "stream",
     "text": [
      "Success!\n"
     ]
    }
   ],
   "source": [
    "##########################\n",
    "### TEST YOUR SOLUTION ###\n",
    "##########################\n",
    "bank = import_and_create_bank(\"bank.txt\")\n",
    "user_accounts, log_in = import_and_create_accounts(\"user.txt\")\n",
    "\n",
    "tools.assert_false(change_password(user_accounts,log_in,\"BrandonK\",\"123abcABC\",\"123abcABCD\"))\n",
    "tools.assert_false(change_password(user_accounts,log_in,\"Brandon\",\"brandon123ABC\",\"123abcABCD\"))\n",
    "\n",
    "login(user_accounts,log_in,\"Brandon\",\"brandon123ABC\")\n",
    "tools.assert_false(change_password(user_accounts,log_in,\"Brandon\",\"123abcABCD\",\"123abcABCDE\")) \n",
    "\n",
    "tools.assert_false(change_password(user_accounts,log_in,\"Brandon\",\"brandon123ABC\",\"brandon123ABC\"))\n",
    "\n",
    "tools.assert_false(change_password(user_accounts,log_in,\"Brandon\",\"brandon123ABC\",\"123ABCD\"))   \n",
    "\n",
    "tools.assert_true(change_password(user_accounts,log_in,\"Brandon\",\"brandon123ABC\",\"123abcABCD\"))\n",
    "tools.assert_equal(\"123abcABCD\",user_accounts[\"Brandon\"])\n",
    "print(\"Success!\")"
   ]
  },
  {
   "cell_type": "code",
   "execution_count": 165,
   "metadata": {
    "deletable": false,
    "nbgrader": {
     "cell_type": "code",
     "checksum": "fea504f0628fb26052f9849676dcb1ad",
     "grade": false,
     "grade_id": "delete_account",
     "locked": false,
     "schema_version": 3,
     "solution": true,
     "task": false
    }
   },
   "outputs": [],
   "source": [
    "def delete_account(user_accounts, log_in, bank, username, password):\n",
    "    '''\n",
    "    Completely deletes the user from the online banking system.\n",
    "    If the user exists in the user_accounts dictionary and the password is correct, and the user \n",
    "    is logged in (the username is associated with the value True in the log_in dictionary):\n",
    "    - Deletes the user from the user_accounts dictionary, the log_in dictionary, and the bank dictionary.\n",
    "    - Returns True.\n",
    "    Otherwise:\n",
    "    - Returns False.\n",
    "\n",
    "    For example:\n",
    "    - Calling delete_account(user_accounts, log_in, bank, \"BrandonK\", \"123abcABC\") will return False\n",
    "    - Calling delete_account(user_accounts, log_in, bank, \"Brandon\", \"123abcABDC\") will return False\n",
    "    - If you first log \"Brandon\" in, calling delete_account(user_accounts, log_in, bank, \"Brandon\", \"brandon123ABC\")\n",
    "    will return True\n",
    "    '''\n",
    "    # your code here\n",
    "    if username in user_accounts.keys():\n",
    "        if log_in[username] == True:\n",
    "            if user_accounts[username] == password:\n",
    "                del log_in[username]\n",
    "                del bank[username]\n",
    "                del user_accounts[username]\n",
    "                return True\n",
    "            else:\n",
    "                return False\n",
    "        else:\n",
    "            return False\n",
    "    else:\n",
    "        return False"
   ]
  },
  {
   "cell_type": "code",
   "execution_count": 167,
   "metadata": {
    "deletable": false,
    "editable": false,
    "nbgrader": {
     "cell_type": "code",
     "checksum": "c0a922d395776919e20646a55f03237d",
     "grade": true,
     "grade_id": "test_delete_account",
     "locked": true,
     "points": 1,
     "schema_version": 3,
     "solution": false,
     "task": false
    }
   },
   "outputs": [
    {
     "name": "stdout",
     "output_type": "stream",
     "text": [
      "Success!\n"
     ]
    }
   ],
   "source": [
    "##########################\n",
    "### TEST YOUR SOLUTION ###\n",
    "##########################\n",
    "\n",
    "bank = import_and_create_bank(\"bank.txt\")\n",
    "user_accounts, log_in = import_and_create_accounts(\"user.txt\")\n",
    "\n",
    "tools.assert_false(delete_account(user_accounts,log_in,bank,\"BrandonK\",\"123abcABC\"))\n",
    "tools.assert_false(delete_account(user_accounts,log_in,bank,\"Brandon\",\"123abcABDC\"))\n",
    "tools.assert_false(delete_account(user_accounts,log_in,bank,\"Brandon\",\"brandon123ABC\"))\n",
    "login(user_accounts,log_in,\"Brandon\",\"brandon123ABC\")\n",
    "\n",
    "tools.assert_true(delete_account(user_accounts,log_in,bank,\"Brandon\",\"brandon123ABC\"))\n",
    "tools.assert_is_none(user_accounts.get(\"Brandon\"))\n",
    "tools.assert_is_none(log_in.get(\"Brandon\"))\n",
    "tools.assert_is_none(bank.get(\"Brandon\"))\n",
    "print(\"Success!\")"
   ]
  },
  {
   "cell_type": "code",
   "execution_count": null,
   "metadata": {
    "deletable": false,
    "editable": false,
    "nbgrader": {
     "cell_type": "code",
     "checksum": "bf6f98cbd1066f5daa0d993b24b37606",
     "grade": true,
     "grade_id": "main",
     "locked": true,
     "points": 0,
     "schema_version": 3,
     "solution": false,
     "task": false
    }
   },
   "outputs": [],
   "source": [
    "def main():\n",
    "    '''\n",
    "    The main function is a skeleton for you to test if your overall programming is working.\n",
    "    Note we will not test your main function. It is only for you to run and interact with your program.\n",
    "    '''\n",
    "\n",
    "    bank = import_and_create_bank(\"bank.txt\")\n",
    "    user_accounts, log_in = import_and_create_accounts(\"user.txt\")\n",
    "\n",
    "    while True:\n",
    "        # for debugging\n",
    "        print('bank:', bank)\n",
    "        print('user_accounts:', user_accounts)\n",
    "        print('log_in:', log_in)\n",
    "        print('')\n",
    "        #\n",
    "\n",
    "        option = input(\"What do you want to do?  Please enter a numerical option below.\\n\"\n",
    "        \"1. login\\n\"\n",
    "        \"2. signup\\n\"\n",
    "        \"3. change password\\n\"\n",
    "        \"4. delete account\\n\"\n",
    "        \"5. update amount\\n\"\n",
    "        \"6. make a transfer\\n\"\n",
    "        \"7. exit\\n\")\n",
    "        if option == \"1\":\n",
    "            username = input(\"Please input the username\\n\")\n",
    "            password = input(\"Please input the password\\n\")\n",
    "\n",
    "            # add code to login\n",
    "            login(user_accounts, log_in, username, password);\n",
    "        elif option == \"2\":\n",
    "            username = input(\"Please input the username\\n\")\n",
    "            password = input(\"Please input the password\\n\")\n",
    "\n",
    "            # add code to signup\n",
    "            signup(user_accounts, log_in, username, password)\n",
    "        elif option == \"3\":\n",
    "            username = input(\"Please input the username\\n\")\n",
    "            old_password = input(\"Please input the old password\\n\")\n",
    "            new_password = input(\"Please input the new password\\n\")\n",
    "\n",
    "            # add code to change password\n",
    "            change_password(user_accounts, log_in, username, old_password, new_password)\n",
    "        elif option == \"4\":\n",
    "            username = input(\"Please input the username\\n\")\n",
    "            password = input(\"Please input the password\\n\")\n",
    "\n",
    "            # add code to delete account\n",
    "            delete_account(user_accounts, log_in, bank, username, password)\n",
    "        elif option == \"5\":\n",
    "            username = input(\"Please input the username\\n\")\n",
    "            amount = input(\"Please input the amount\\n\")\n",
    "            try:\n",
    "                amount = float(amount)\n",
    "\n",
    "                # add code to update amount\n",
    "                update(bank, log_in, username, amount)\n",
    "            except:\n",
    "                print(\"The amount is invalid. Please reenter the option\\n\")\n",
    "\n",
    "        elif option == \"6\":\n",
    "            userA = input(\"Please input the user who will be deducted\\n\")\n",
    "            userB = input(\"Please input the user who will be added\\n\")\n",
    "            amount = input(\"Please input the amount\\n\")\n",
    "            try:\n",
    "                amount = float(amount)\n",
    "\n",
    "                # add code to transfer amount\n",
    "                transfer(bank, log_in, userA, userB, amount)\n",
    "            except:\n",
    "                print(\"The amount is invalid. Please re-enter the option.\\n\")\n",
    "        elif option == \"7\":\n",
    "            break;\n",
    "        else:\n",
    "            print(\"The option is not valid. Please re-enter the option.\\n\")\n",
    "\n",
    "#This will automatically run the main function in your program\n",
    "#Don't change this\n",
    "if __name__ == '__main__':\n",
    "    main()"
   ]
  },
  {
   "cell_type": "code",
   "execution_count": null,
   "metadata": {},
   "outputs": [],
   "source": []
  }
 ],
 "metadata": {
  "kernelspec": {
   "display_name": "Python 3",
   "language": "python",
   "name": "python3"
  },
  "language_info": {
   "codemirror_mode": {
    "name": "ipython",
    "version": 3
   },
   "file_extension": ".py",
   "mimetype": "text/x-python",
   "name": "python",
   "nbconvert_exporter": "python",
   "pygments_lexer": "ipython3",
   "version": "3.7.6"
  }
 },
 "nbformat": 4,
 "nbformat_minor": 2
}
